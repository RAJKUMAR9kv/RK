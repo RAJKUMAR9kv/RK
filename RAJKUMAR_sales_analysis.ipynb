{
 "cells": [
  {
   "cell_type": "code",
   "execution_count": 1,
   "metadata": {},
   "outputs": [],
   "source": [
    "#Import the required Libraries.\n",
    "import numpy as np\n",
    "import pandas as pd\n",
    "import matplotlib.pyplot as plt\n",
    "\n",
    "import seaborn as sns"
   ]
  },
  {
   "cell_type": "markdown",
   "metadata": {},
   "source": [
    "## Data Cleaning "
   ]
  },
  {
   "cell_type": "markdown",
   "metadata": {},
   "source": [
    "### Data Reading & Data Types "
   ]
  },
  {
   "cell_type": "code",
   "execution_count": 2,
   "metadata": {},
   "outputs": [],
   "source": [
    "#Read the data in pandas\n",
    "inp0= pd.read_csv(r\"C:\\Users\\User\\Downloads\\Data_Analysis_Project\\Data_Analysis_Project\\Attribute DataSet.csv\")\n",
    "inp1= pd.read_csv(r\"C:\\Users\\User\\Downloads\\Data_Analysis_Project\\Data_Analysis_Project\\Dress Sales.csv \")"
   ]
  },
  {
   "cell_type": "markdown",
   "metadata": {},
   "source": [
    "Ordinal Variable: The categories have a meaningful order or rank.\n",
    "Nominal Variable: The categories do not have a meaningful order or rank.\n",
    "price datatype iss Object type and categorical ordinal variable "
   ]
  },
  {
   "cell_type": "markdown",
   "metadata": {},
   "source": [
    "You have “Attribute DataSet” which contains a column named “Price”. Choose the correct statement from the following about its data type and variable type.\n",
    " Integer type and numerical variable\n",
    " Object type and categorical ordinal variable\n",
    " Object type and categorical nominal variable\n",
    "Float type and categorical variable.\n",
    "ans:price datatype iss Object type and categorical ordinal variable"
   ]
  },
  {
   "cell_type": "markdown",
   "metadata": {},
   "source": [
    "There is another column in “Attribute DataSet” named as “Recommendation”, choose the correct statement about its data type and variable type.\n",
    "Integer type and categorical\n",
    "Object type and categorical\n",
    "Integer type and continuous numerical\n",
    "Object type only.\n",
    "ans:Integer type and categorical"
   ]
  },
  {
   "cell_type": "markdown",
   "metadata": {},
   "source": [
    "Which of the following column do you think are of no use in “Attribute DataSet”.\n",
    "- Dress_ID\n",
    "- Price\n",
    "- Size and material\n",
    "-NeckLine\n",
    "-None of the above\n",
    "ans: none of the above"
   ]
  },
  {
   "cell_type": "code",
   "execution_count": 4,
   "metadata": {},
   "outputs": [
    {
     "name": "stdout",
     "output_type": "stream",
     "text": [
      "<class 'pandas.core.frame.DataFrame'>\n",
      "RangeIndex: 479 entries, 0 to 478\n",
      "Data columns (total 13 columns):\n",
      " #   Column          Non-Null Count  Dtype  \n",
      "---  ------          --------------  -----  \n",
      " 0   Dress_ID        479 non-null    int64  \n",
      " 1   Style           479 non-null    object \n",
      " 2   Price           477 non-null    object \n",
      " 3   Rating          479 non-null    float64\n",
      " 4   Size            479 non-null    object \n",
      " 5   Season          477 non-null    object \n",
      " 6   NeckLine        476 non-null    object \n",
      " 7   SleeveLength    477 non-null    object \n",
      " 8   Material        360 non-null    object \n",
      " 9   FabricType      223 non-null    object \n",
      " 10  Decoration      255 non-null    object \n",
      " 11  Pattern Type    377 non-null    object \n",
      " 12  Recommendation  479 non-null    int64  \n",
      "dtypes: float64(1), int64(2), object(10)\n",
      "memory usage: 48.8+ KB\n",
      "None\n",
      "<class 'pandas.core.frame.DataFrame'>\n",
      "RangeIndex: 479 entries, 0 to 478\n",
      "Data columns (total 24 columns):\n",
      " #   Column      Non-Null Count  Dtype  \n",
      "---  ------      --------------  -----  \n",
      " 0   Dress_ID    479 non-null    float64\n",
      " 1   29-08-2013  479 non-null    int64  \n",
      " 2   31-08-2013  479 non-null    int64  \n",
      " 3   09-02-2013  479 non-null    int64  \n",
      " 4   09-04-2013  479 non-null    int64  \n",
      " 5   09-06-2013  479 non-null    int64  \n",
      " 6   09-08-2013  479 non-null    int64  \n",
      " 7   09-10-2013  479 non-null    int64  \n",
      " 8   09-12-2013  479 non-null    object \n",
      " 9   14-09-2013  479 non-null    object \n",
      " 10  16-09-2013  479 non-null    object \n",
      " 11  18-09-2013  479 non-null    object \n",
      " 12  20-09-2013  479 non-null    object \n",
      " 13  22-09-2013  479 non-null    object \n",
      " 14  24-09-2013  479 non-null    int64  \n",
      " 15  26-09-2013  257 non-null    float64\n",
      " 16  28-09-2013  479 non-null    int64  \n",
      " 17  30-09-2013  222 non-null    float64\n",
      " 18  10-02-2013  220 non-null    float64\n",
      " 19  10-04-2013  221 non-null    float64\n",
      " 20  10-06-2013  479 non-null    int64  \n",
      " 21  10-08-2013  224 non-null    float64\n",
      " 22  10-10-2013  224 non-null    float64\n",
      " 23  10-12-2013  479 non-null    int64  \n",
      "dtypes: float64(7), int64(11), object(6)\n",
      "memory usage: 89.9+ KB\n",
      "None\n"
     ]
    }
   ],
   "source": [
    "# Print the information about the attributes of inp0 and inp1.\n",
    "print(inp0.info())\n",
    "print(inp1.info())"
   ]
  },
  {
   "cell_type": "markdown",
   "metadata": {},
   "source": [
    "### Fixing the Rows and Columns "
   ]
  },
  {
   "cell_type": "markdown",
   "metadata": {},
   "source": [
    "As you can see, there is a column in “Attribute Dataset” named as ‘Size’. This column contains the values in abbreviation format. Write a code in Python to convert the followings:\n",
    "\n",
    "- M into  “Medium”\n",
    "- L into  “Large”\n",
    "- XL into “Extra large”\n",
    "- free into “Free”\n",
    "- S, s & small into “Small”.\n",
    "\n",
    "Now once you are done with changes in the dataset, what is the value of the lowest percentage, the highest percentage and the percentage of Small size categories in the column named “Size”?\n"
   ]
  },
  {
   "cell_type": "code",
   "execution_count": 6,
   "metadata": {},
   "outputs": [],
   "source": [
    "# Column fixing, correcting size abbreviation. count the percentage of each size category in \"Size\" column.\n",
    "size_mapping = {'M': 'Medium', 'L': 'Large', 'XL': 'Extra large', 'free': 'Free', 'S': 'Small','s': 'Small','small': 'Small'}\n",
    "inp0['Size'].replace(size_mapping, inplace=True)\n",
    "#size_counts = inp0['Size'].value_counts()\n",
    "#Calculate the percentage of each size category\n",
    "#size_percentage = (size_counts / size_counts.sum()) * 100\n",
    "p=inp0.Size.value_counts()\n",
    "q=p/p.sum() *100"
   ]
  },
  {
   "cell_type": "code",
   "execution_count": 12,
   "metadata": {},
   "outputs": [
    {
     "name": "stdout",
     "output_type": "stream",
     "text": [
      "Size\n",
      "Medium         171\n",
      "Free           165\n",
      "Large           93\n",
      "Small           36\n",
      "Extra large     14\n",
      "Name: count, dtype: int64\n",
      "--------------------\n",
      "Size\n",
      "Medium         35.699374\n",
      "Free           34.446764\n",
      "Large          19.415449\n",
      "Small           7.515658\n",
      "Extra large     2.922756\n",
      "Name: count, dtype: float64\n"
     ]
    }
   ],
   "source": [
    "print(p)\n",
    "print('-'*20)\n",
    "print(q)"
   ]
  },
  {
   "cell_type": "code",
   "execution_count": 9,
   "metadata": {},
   "outputs": [
    {
     "data": {
      "text/html": [
       "<div>\n",
       "<style scoped>\n",
       "    .dataframe tbody tr th:only-of-type {\n",
       "        vertical-align: middle;\n",
       "    }\n",
       "\n",
       "    .dataframe tbody tr th {\n",
       "        vertical-align: top;\n",
       "    }\n",
       "\n",
       "    .dataframe thead th {\n",
       "        text-align: right;\n",
       "    }\n",
       "</style>\n",
       "<table border=\"1\" class=\"dataframe\">\n",
       "  <thead>\n",
       "    <tr style=\"text-align: right;\">\n",
       "      <th></th>\n",
       "      <th>Dress_ID</th>\n",
       "      <th>Style</th>\n",
       "      <th>Price</th>\n",
       "      <th>Rating</th>\n",
       "      <th>Size</th>\n",
       "      <th>Season</th>\n",
       "      <th>NeckLine</th>\n",
       "      <th>SleeveLength</th>\n",
       "      <th>Material</th>\n",
       "      <th>FabricType</th>\n",
       "      <th>Decoration</th>\n",
       "      <th>Pattern Type</th>\n",
       "      <th>Recommendation</th>\n",
       "    </tr>\n",
       "  </thead>\n",
       "  <tbody>\n",
       "    <tr>\n",
       "      <th>0</th>\n",
       "      <td>1006032852</td>\n",
       "      <td>Sexy</td>\n",
       "      <td>Low</td>\n",
       "      <td>4.6</td>\n",
       "      <td>Medium</td>\n",
       "      <td>Summer</td>\n",
       "      <td>o-neck</td>\n",
       "      <td>sleevless</td>\n",
       "      <td>NaN</td>\n",
       "      <td>chiffon</td>\n",
       "      <td>ruffles</td>\n",
       "      <td>animal</td>\n",
       "      <td>1</td>\n",
       "    </tr>\n",
       "    <tr>\n",
       "      <th>1</th>\n",
       "      <td>1212192089</td>\n",
       "      <td>Casual</td>\n",
       "      <td>Low</td>\n",
       "      <td>0.0</td>\n",
       "      <td>Large</td>\n",
       "      <td>Summer</td>\n",
       "      <td>o-neck</td>\n",
       "      <td>Petal</td>\n",
       "      <td>microfiber</td>\n",
       "      <td>NaN</td>\n",
       "      <td>ruffles</td>\n",
       "      <td>animal</td>\n",
       "      <td>0</td>\n",
       "    </tr>\n",
       "    <tr>\n",
       "      <th>2</th>\n",
       "      <td>1190380701</td>\n",
       "      <td>vintage</td>\n",
       "      <td>High</td>\n",
       "      <td>0.0</td>\n",
       "      <td>Large</td>\n",
       "      <td>Automn</td>\n",
       "      <td>o-neck</td>\n",
       "      <td>full</td>\n",
       "      <td>polyster</td>\n",
       "      <td>NaN</td>\n",
       "      <td>NaN</td>\n",
       "      <td>print</td>\n",
       "      <td>0</td>\n",
       "    </tr>\n",
       "    <tr>\n",
       "      <th>3</th>\n",
       "      <td>966005983</td>\n",
       "      <td>Brief</td>\n",
       "      <td>Average</td>\n",
       "      <td>4.6</td>\n",
       "      <td>Large</td>\n",
       "      <td>Spring</td>\n",
       "      <td>o-neck</td>\n",
       "      <td>full</td>\n",
       "      <td>silk</td>\n",
       "      <td>chiffon</td>\n",
       "      <td>embroidary</td>\n",
       "      <td>print</td>\n",
       "      <td>1</td>\n",
       "    </tr>\n",
       "    <tr>\n",
       "      <th>4</th>\n",
       "      <td>876339541</td>\n",
       "      <td>cute</td>\n",
       "      <td>Low</td>\n",
       "      <td>4.5</td>\n",
       "      <td>Medium</td>\n",
       "      <td>Summer</td>\n",
       "      <td>o-neck</td>\n",
       "      <td>butterfly</td>\n",
       "      <td>chiffonfabric</td>\n",
       "      <td>chiffon</td>\n",
       "      <td>bow</td>\n",
       "      <td>dot</td>\n",
       "      <td>0</td>\n",
       "    </tr>\n",
       "  </tbody>\n",
       "</table>\n",
       "</div>"
      ],
      "text/plain": [
       "     Dress_ID    Style    Price  Rating    Size  Season NeckLine SleeveLength  \\\n",
       "0  1006032852     Sexy      Low     4.6  Medium  Summer   o-neck    sleevless   \n",
       "1  1212192089   Casual      Low     0.0   Large  Summer   o-neck        Petal   \n",
       "2  1190380701  vintage     High     0.0   Large  Automn   o-neck         full   \n",
       "3   966005983    Brief  Average     4.6   Large  Spring   o-neck         full   \n",
       "4   876339541     cute      Low     4.5  Medium  Summer   o-neck    butterfly   \n",
       "\n",
       "        Material FabricType  Decoration Pattern Type  Recommendation  \n",
       "0            NaN    chiffon     ruffles       animal               1  \n",
       "1     microfiber        NaN     ruffles       animal               0  \n",
       "2       polyster        NaN         NaN        print               0  \n",
       "3           silk    chiffon  embroidary        print               1  \n",
       "4  chiffonfabric    chiffon         bow          dot               0  "
      ]
     },
     "execution_count": 9,
     "metadata": {},
     "output_type": "execute_result"
    }
   ],
   "source": [
    "inp0.head()"
   ]
  },
  {
   "cell_type": "markdown",
   "metadata": {},
   "source": [
    "### Impute/Remove Missing values"
   ]
  },
  {
   "cell_type": "code",
   "execution_count": 13,
   "metadata": {},
   "outputs": [
    {
     "name": "stdout",
     "output_type": "stream",
     "text": [
      "Dress_ID            0\n",
      "Style               0\n",
      "Price               2\n",
      "Rating              0\n",
      "Size                0\n",
      "Season              2\n",
      "NeckLine            3\n",
      "SleeveLength        2\n",
      "Material          119\n",
      "FabricType        256\n",
      "Decoration        224\n",
      "Pattern Type      102\n",
      "Recommendation      0\n",
      "dtype: int64\n",
      "--------------------\n",
      "Dress_ID        0\n",
      "29-08-2013      0\n",
      "31-08-2013      0\n",
      "09-02-2013      0\n",
      "09-04-2013      0\n",
      "09-06-2013      0\n",
      "09-08-2013      0\n",
      "09-10-2013      0\n",
      "09-12-2013      0\n",
      "14-09-2013      0\n",
      "16-09-2013      0\n",
      "18-09-2013      0\n",
      "20-09-2013      0\n",
      "22-09-2013      0\n",
      "24-09-2013      0\n",
      "26-09-2013    222\n",
      "28-09-2013      0\n",
      "30-09-2013    257\n",
      "10-02-2013    259\n",
      "10-04-2013    258\n",
      "10-06-2013      0\n",
      "10-08-2013    255\n",
      "10-10-2013    255\n",
      "10-12-2013      0\n",
      "dtype: int64\n"
     ]
    }
   ],
   "source": [
    "# Print the null count of each variables of inp0 and inp1.\n",
    "print(inp0.isnull().sum())\n",
    "print('-'*20)\n",
    "print(inp1.isnull().sum())"
   ]
  },
  {
   "cell_type": "markdown",
   "metadata": {},
   "source": [
    "You are given another dataset named “Dress Sales”. Now if you observe the datatypes of the columns using ‘inp1.info()’ command, you can identify that there are certain columns defined as object data type though they primarily consist of numeric data.\n",
    "\n",
    "Now if you try and convert these object data type columns into numeric data type(float), you will come across an error message. Try to correct this error."
   ]
  },
  {
   "cell_type": "code",
   "execution_count": 14,
   "metadata": {},
   "outputs": [
    {
     "name": "stdout",
     "output_type": "stream",
     "text": [
      "<class 'pandas.core.frame.DataFrame'>\n",
      "RangeIndex: 479 entries, 0 to 478\n",
      "Data columns (total 24 columns):\n",
      " #   Column      Non-Null Count  Dtype  \n",
      "---  ------      --------------  -----  \n",
      " 0   Dress_ID    479 non-null    float64\n",
      " 1   29-08-2013  479 non-null    int64  \n",
      " 2   31-08-2013  479 non-null    int64  \n",
      " 3   09-02-2013  479 non-null    int64  \n",
      " 4   09-04-2013  479 non-null    int64  \n",
      " 5   09-06-2013  479 non-null    int64  \n",
      " 6   09-08-2013  479 non-null    int64  \n",
      " 7   09-10-2013  479 non-null    int64  \n",
      " 8   09-12-2013  479 non-null    object \n",
      " 9   14-09-2013  479 non-null    object \n",
      " 10  16-09-2013  479 non-null    object \n",
      " 11  18-09-2013  479 non-null    object \n",
      " 12  20-09-2013  479 non-null    object \n",
      " 13  22-09-2013  479 non-null    object \n",
      " 14  24-09-2013  479 non-null    int64  \n",
      " 15  26-09-2013  257 non-null    float64\n",
      " 16  28-09-2013  479 non-null    int64  \n",
      " 17  30-09-2013  222 non-null    float64\n",
      " 18  10-02-2013  220 non-null    float64\n",
      " 19  10-04-2013  221 non-null    float64\n",
      " 20  10-06-2013  479 non-null    int64  \n",
      " 21  10-08-2013  224 non-null    float64\n",
      " 22  10-10-2013  224 non-null    float64\n",
      " 23  10-12-2013  479 non-null    int64  \n",
      "dtypes: float64(7), int64(11), object(6)\n",
      "memory usage: 89.9+ KB\n"
     ]
    }
   ],
   "source": [
    "inp1.info()"
   ]
  },
  {
   "cell_type": "code",
   "execution_count": 15,
   "metadata": {},
   "outputs": [],
   "source": [
    "# Try to convert the object type into float type of data. YOU GET ERROR MESSAGE.\n",
    "inp1['09-12-2013'] = pd.to_numeric(inp1['09-12-2013'], errors='coerce')\n",
    "inp1['14-09-2013'] = pd.to_numeric(inp1['14-09-2013'], errors='coerce')\n",
    "inp1['16-09-2013'] = pd.to_numeric(inp1['16-09-2013'], errors='coerce')\n",
    "inp1['18-09-2013'] = pd.to_numeric(inp1['18-09-2013'], errors='coerce')\n",
    "inp1['20-09-2013'] = pd.to_numeric(inp1['20-09-2013'], errors='coerce')\n",
    "inp1['22-09-2013'] = pd.to_numeric(inp1['22-09-2013'], errors='coerce')"
   ]
  },
  {
   "cell_type": "code",
   "execution_count": 16,
   "metadata": {},
   "outputs": [
    {
     "data": {
      "text/plain": [
       "Dress_ID      float64\n",
       "29-08-2013      int64\n",
       "31-08-2013      int64\n",
       "09-02-2013      int64\n",
       "09-04-2013      int64\n",
       "09-06-2013      int64\n",
       "09-08-2013      int64\n",
       "09-10-2013      int64\n",
       "09-12-2013    float64\n",
       "14-09-2013    float64\n",
       "16-09-2013    float64\n",
       "18-09-2013    float64\n",
       "20-09-2013    float64\n",
       "22-09-2013    float64\n",
       "24-09-2013      int64\n",
       "26-09-2013    float64\n",
       "28-09-2013      int64\n",
       "30-09-2013    float64\n",
       "10-02-2013    float64\n",
       "10-04-2013    float64\n",
       "10-06-2013      int64\n",
       "10-08-2013    float64\n",
       "10-10-2013    float64\n",
       "10-12-2013      int64\n",
       "dtype: object"
      ]
     },
     "execution_count": 16,
     "metadata": {},
     "output_type": "execute_result"
    }
   ],
   "source": [
    "# Print the data types information of inp1 i.e. \"Dress Sales\" data.\n",
    "inp1.dtypes"
   ]
  },
  {
   "cell_type": "code",
   "execution_count": 19,
   "metadata": {},
   "outputs": [],
   "source": [
    "# find string values in inp1\n",
    "for col in inp1.columns:\n",
    "    # Check if the column contains string values\n",
    "    if inp1[col].dtype == 'object':\n",
    "        # Find rows where the column contains the string 'a'\n",
    "        filtered = inp1[inp1[col].str.contains('a', case=False, na=False)]\n",
    "        # Append the filtered rows to the result DataFrame\n",
    "        result = pd.concat([result, filtered])"
   ]
  },
  {
   "cell_type": "code",
   "execution_count": 15,
   "metadata": {},
   "outputs": [
    {
     "name": "stdout",
     "output_type": "stream",
     "text": [
      "\n",
      "Dress Sales DataFrame with null values in string columns:\n",
      "         Dress_ID  29-08-2013  31-08-2013  09-02-2013  09-04-2013  09-06-2013  \\\n",
      "0    1.006033e+09        2114        2274        2491        2660        2727   \n",
      "1    1.212192e+09         151         275         570         750         813   \n",
      "2    1.190381e+09           6           7           7           7           8   \n",
      "3    9.660060e+08        1005        1128        1326        1455        1507   \n",
      "4    8.763395e+08         996        1175        1304        1396        1432   \n",
      "..            ...         ...         ...         ...         ...         ...   \n",
      "474  9.905592e+08           0           0           0          60          62   \n",
      "475  7.133920e+08           0           0           0         560         554   \n",
      "476  5.328743e+08           0           0           0         734         728   \n",
      "477  6.554649e+08           0           0           0         254         259   \n",
      "478  9.199310e+08           0           0           0         538         545   \n",
      "\n",
      "     09-08-2013  09-10-2013  09-12-2013  14-09-2013  ...  24-09-2013  \\\n",
      "0          2887        2930      3119.0      3204.0  ...        3554   \n",
      "1          1066        1164      1558.0      1756.0  ...        2710   \n",
      "2             8           9        10.0        10.0  ...          11   \n",
      "3          1621        1637      1723.0      1746.0  ...        1878   \n",
      "4          1559        1570      1638.0      1655.0  ...        2032   \n",
      "..          ...         ...         ...         ...  ...         ...   \n",
      "474          64          65        67.0        68.0  ...          73   \n",
      "475         544         537       525.0       519.0  ...         400   \n",
      "476         726         715       694.0       690.0  ...         616   \n",
      "477         261         263       268.0       270.0  ...         257   \n",
      "478         558         563       578.0       585.0  ...         628   \n",
      "\n",
      "     26-09-2013  28-09-2013  30-09-2013  10-02-2013  10-04-2013  10-06-2013  \\\n",
      "0        3624.0        3706      3746.0      3795.0      3832.0        3897   \n",
      "1        2942.0        3258      3354.0      3475.0      3654.0        3911   \n",
      "2          11.0          11        11.0        11.0        11.0          11   \n",
      "3        1892.0        1914      1924.0      1929.0      1941.0        1952   \n",
      "4        2156.0        2252      2312.0      2387.0      2459.0        2544   \n",
      "..          ...         ...         ...         ...         ...         ...   \n",
      "474        74.0          75        75.0        76.0        76.0          77   \n",
      "475       388.0         360       364.0       372.0       377.0         380   \n",
      "476       597.0         586       569.0       561.0       555.0         551   \n",
      "477       256.0         255       254.0       253.0       250.0         249   \n",
      "478       632.0         639       645.0       651.0       655.0         660   \n",
      "\n",
      "     10-08-2013  10-10-2013  10-12-2013  \n",
      "0        3923.0      3985.0        4048  \n",
      "1        4024.0      4125.0        4277  \n",
      "2          11.0        11.0          11  \n",
      "3        1955.0      1959.0        1963  \n",
      "4        2614.0      2693.0        2736  \n",
      "..          ...         ...         ...  \n",
      "474        77.0        77.0          77  \n",
      "475       382.0       384.0         285  \n",
      "476       546.0       535.0         520  \n",
      "477       249.0       249.0         248  \n",
      "478       668.0       674.0         680  \n",
      "\n",
      "[479 rows x 24 columns]\n"
     ]
    }
   ],
   "source": [
    "# Do the required changes in the \"Dress Sales\" data set to get null values on string values.\n",
    "string_columns = inp1.select_dtypes(include=['object']).columns\n",
    "inp1[string_columns] = inp1[string_columns].applymap(lambda x: np.nan if isinstance(x, str) else x)\n",
    "\n",
    "# Display the DataFrame with null values in string columns\n",
    "print(\"\\nDress Sales DataFrame with null values in string columns:\")\n",
    "print(inp1)"
   ]
  },
  {
   "cell_type": "code",
   "execution_count": 20,
   "metadata": {},
   "outputs": [
    {
     "name": "stdout",
     "output_type": "stream",
     "text": [
      "<class 'pandas.core.frame.DataFrame'>\n",
      "RangeIndex: 479 entries, 0 to 478\n",
      "Data columns (total 24 columns):\n",
      " #   Column      Non-Null Count  Dtype  \n",
      "---  ------      --------------  -----  \n",
      " 0   Dress_ID    479 non-null    float64\n",
      " 1   29-08-2013  479 non-null    int64  \n",
      " 2   31-08-2013  479 non-null    int64  \n",
      " 3   09-02-2013  479 non-null    int64  \n",
      " 4   09-04-2013  479 non-null    int64  \n",
      " 5   09-06-2013  479 non-null    int64  \n",
      " 6   09-08-2013  479 non-null    int64  \n",
      " 7   09-10-2013  479 non-null    int64  \n",
      " 8   09-12-2013  478 non-null    float64\n",
      " 9   14-09-2013  478 non-null    float64\n",
      " 10  16-09-2013  478 non-null    float64\n",
      " 11  18-09-2013  478 non-null    float64\n",
      " 12  20-09-2013  478 non-null    float64\n",
      " 13  22-09-2013  478 non-null    float64\n",
      " 14  24-09-2013  479 non-null    int64  \n",
      " 15  26-09-2013  257 non-null    float64\n",
      " 16  28-09-2013  479 non-null    int64  \n",
      " 17  30-09-2013  222 non-null    float64\n",
      " 18  10-02-2013  220 non-null    float64\n",
      " 19  10-04-2013  221 non-null    float64\n",
      " 20  10-06-2013  479 non-null    int64  \n",
      " 21  10-08-2013  224 non-null    float64\n",
      " 22  10-10-2013  224 non-null    float64\n",
      " 23  10-12-2013  479 non-null    int64  \n",
      "dtypes: float64(13), int64(11)\n",
      "memory usage: 89.9 KB\n"
     ]
    }
   ],
   "source": [
    "# Convert the object type columns in \"Dress Sales\" into float type of data type.\n",
    "inp1.info()"
   ]
  },
  {
   "cell_type": "markdown",
   "metadata": {},
   "source": [
    "When you see the null counts in “Dress Sales” dataset after performing all the operations that have been mentioned in jupyter notebook, you will find that there are some columns in “Dress Sales” data where there are more than 40% of missing values. Based on your understanding of dealing with missing values do the following steps."
   ]
  },
  {
   "cell_type": "code",
   "execution_count": 21,
   "metadata": {},
   "outputs": [
    {
     "name": "stdout",
     "output_type": "stream",
     "text": [
      "Dress_ID       0.000000\n",
      "29-08-2013     0.000000\n",
      "31-08-2013     0.000000\n",
      "09-02-2013     0.000000\n",
      "09-04-2013     0.000000\n",
      "09-06-2013     0.000000\n",
      "09-08-2013     0.000000\n",
      "09-10-2013     0.000000\n",
      "09-12-2013     0.208768\n",
      "14-09-2013     0.208768\n",
      "16-09-2013     0.208768\n",
      "18-09-2013     0.208768\n",
      "20-09-2013     0.208768\n",
      "22-09-2013     0.208768\n",
      "24-09-2013     0.000000\n",
      "26-09-2013    46.346555\n",
      "28-09-2013     0.000000\n",
      "30-09-2013    53.653445\n",
      "10-02-2013    54.070981\n",
      "10-04-2013    53.862213\n",
      "10-06-2013     0.000000\n",
      "10-08-2013    53.235908\n",
      "10-10-2013    53.235908\n",
      "10-12-2013     0.000000\n",
      "dtype: float64\n"
     ]
    }
   ],
   "source": [
    "# Print the null percetange of each column of inp1.\n",
    "null_percentage = inp1.isnull().mean() * 100\n",
    "print(null_percentage)"
   ]
  },
  {
   "cell_type": "code",
   "execution_count": 22,
   "metadata": {},
   "outputs": [
    {
     "name": "stdout",
     "output_type": "stream",
     "text": [
      "         Dress_ID  29-08-2013  31-08-2013  09-02-2013  09-04-2013  09-06-2013  \\\n",
      "0    1.006033e+09        2114        2274        2491        2660        2727   \n",
      "1    1.212192e+09         151         275         570         750         813   \n",
      "2    1.190381e+09           6           7           7           7           8   \n",
      "3    9.660060e+08        1005        1128        1326        1455        1507   \n",
      "4    8.763395e+08         996        1175        1304        1396        1432   \n",
      "..            ...         ...         ...         ...         ...         ...   \n",
      "474  9.905592e+08           0           0           0          60          62   \n",
      "475  7.133920e+08           0           0           0         560         554   \n",
      "476  5.328743e+08           0           0           0         734         728   \n",
      "477  6.554649e+08           0           0           0         254         259   \n",
      "478  9.199310e+08           0           0           0         538         545   \n",
      "\n",
      "     09-08-2013  09-10-2013  09-12-2013  14-09-2013  16-09-2013  18-09-2013  \\\n",
      "0          2887        2930      3119.0      3204.0      3277.0      3321.0   \n",
      "1          1066        1164      1558.0      1756.0      1878.0      1985.0   \n",
      "2             8           9        10.0        10.0        10.0        10.0   \n",
      "3          1621        1637      1723.0      1746.0      1783.0      1796.0   \n",
      "4          1559        1570      1638.0      1655.0      1681.0      1743.0   \n",
      "..          ...         ...         ...         ...         ...         ...   \n",
      "474          64          65        67.0        68.0        69.0        70.0   \n",
      "475         544         537       525.0       519.0       511.0       501.0   \n",
      "476         726         715       694.0       690.0       686.0       674.0   \n",
      "477         261         263       268.0       270.0       272.0       272.0   \n",
      "478         558         563       578.0       585.0       590.0       599.0   \n",
      "\n",
      "     20-09-2013  22-09-2013  24-09-2013  28-09-2013  10-06-2013  10-12-2013  \n",
      "0        3386.0      3479.0        3554        3706        3897        4048  \n",
      "1        2106.0      2454.0        2710        3258        3911        4277  \n",
      "2          10.0        11.0          11          11          11          11  \n",
      "3        1812.0      1845.0        1878        1914        1952        1963  \n",
      "4        1824.0      1919.0        2032        2252        2544        2736  \n",
      "..          ...         ...         ...         ...         ...         ...  \n",
      "474        72.0        73.0          73          75          77          77  \n",
      "475       492.0       480.0         400         360         380         285  \n",
      "476       665.0       658.0         616         586         551         520  \n",
      "477       264.0       264.0         257         255         249         248  \n",
      "478       605.0       619.0         628         639         660         680  \n",
      "\n",
      "[479 rows x 18 columns]\n"
     ]
    }
   ],
   "source": [
    "# Drop the columns in \"Dress Sales\" which have more than 40% of missing values.\n",
    "threshold = 0.4  # Set the threshold for missing values\n",
    "inp1= inp1.dropna(thresh=len(inp1) * (1 - threshold), axis=1)\n",
    "print(inp1)"
   ]
  },
  {
   "cell_type": "code",
   "execution_count": 23,
   "metadata": {},
   "outputs": [
    {
     "name": "stdout",
     "output_type": "stream",
     "text": [
      "Dress_ID      0.000000\n",
      "29-08-2013    0.000000\n",
      "31-08-2013    0.000000\n",
      "09-02-2013    0.000000\n",
      "09-04-2013    0.000000\n",
      "09-06-2013    0.000000\n",
      "09-08-2013    0.000000\n",
      "09-10-2013    0.000000\n",
      "09-12-2013    0.208768\n",
      "14-09-2013    0.208768\n",
      "16-09-2013    0.208768\n",
      "18-09-2013    0.208768\n",
      "20-09-2013    0.208768\n",
      "22-09-2013    0.208768\n",
      "24-09-2013    0.000000\n",
      "28-09-2013    0.000000\n",
      "10-06-2013    0.000000\n",
      "10-12-2013    0.000000\n",
      "dtype: float64\n"
     ]
    }
   ],
   "source": [
    "null_percentage = inp1.isnull().mean() * 100\n",
    "print(null_percentage)"
   ]
  },
  {
   "cell_type": "markdown",
   "metadata": {},
   "source": [
    "You should categorise the dates into seasons in Dress Sales data to simplify the analysis according to the following criteria:\n",
    " June, July and August: Summer.\n",
    " September, October and November: Autumn.\n",
    " December, January and February: WInter.\n",
    " March, April and May: Spring"
   ]
  },
  {
   "cell_type": "code",
   "execution_count": 25,
   "metadata": {
    "scrolled": true
   },
   "outputs": [
    {
     "name": "stdout",
     "output_type": "stream",
     "text": [
      "         Dress_ID  29-08-2013  31-08-2013  09-02-2013  09-04-2013  09-06-2013  \\\n",
      "0    1.006033e+09        2114        2274        2491        2660        2727   \n",
      "1    1.212192e+09         151         275         570         750         813   \n",
      "2    1.190381e+09           6           7           7           7           8   \n",
      "3    9.660060e+08        1005        1128        1326        1455        1507   \n",
      "4    8.763395e+08         996        1175        1304        1396        1432   \n",
      "..            ...         ...         ...         ...         ...         ...   \n",
      "474  9.905592e+08           0           0           0          60          62   \n",
      "475  7.133920e+08           0           0           0         560         554   \n",
      "476  5.328743e+08           0           0           0         734         728   \n",
      "477  6.554649e+08           0           0           0         254         259   \n",
      "478  9.199310e+08           0           0           0         538         545   \n",
      "\n",
      "     09-08-2013  09-10-2013  09-12-2013  14-09-2013  ...  20-09-2013  \\\n",
      "0          2887        2930      3119.0      3204.0  ...      3386.0   \n",
      "1          1066        1164      1558.0      1756.0  ...      2106.0   \n",
      "2             8           9        10.0        10.0  ...        10.0   \n",
      "3          1621        1637      1723.0      1746.0  ...      1812.0   \n",
      "4          1559        1570      1638.0      1655.0  ...      1824.0   \n",
      "..          ...         ...         ...         ...  ...         ...   \n",
      "474          64          65        67.0        68.0  ...        72.0   \n",
      "475         544         537       525.0       519.0  ...       492.0   \n",
      "476         726         715       694.0       690.0  ...       665.0   \n",
      "477         261         263       268.0       270.0  ...       264.0   \n",
      "478         558         563       578.0       585.0  ...       605.0   \n",
      "\n",
      "     22-09-2013  24-09-2013  28-09-2013  10-06-2013  10-12-2013  Summer  \\\n",
      "0        3479.0        3554        3706        3897        4048   13899   \n",
      "1        2454.0        2710        3258        3911        4277    6216   \n",
      "2          11.0          11          11          11          11      40   \n",
      "3        1845.0        1878        1914        1952        1963    7213   \n",
      "4        1919.0        2032        2252        2544        2736    7706   \n",
      "..          ...         ...         ...         ...         ...     ...   \n",
      "474        73.0          73          75          77          77     203   \n",
      "475       480.0         400         360         380         285    1478   \n",
      "476       658.0         616         586         551         520    2005   \n",
      "477       264.0         257         255         249         248     769   \n",
      "478       619.0         628         639         660         680    1763   \n",
      "\n",
      "      Autumn  Winter  Spring  \n",
      "0    26857.0  9658.0    2660  \n",
      "1    17311.0  6405.0     750  \n",
      "2       82.0    28.0       7  \n",
      "3    14411.0  5012.0    1455  \n",
      "4    14676.0  5678.0    1396  \n",
      "..       ...     ...     ...  \n",
      "474    565.0   144.0      60  \n",
      "475   3800.0   810.0     560  \n",
      "476   5290.0  1214.0     734  \n",
      "477   2117.0   516.0     254  \n",
      "478   4828.0  1258.0     538  \n",
      "\n",
      "[479 rows x 22 columns]\n"
     ]
    }
   ],
   "source": [
    "# Create the four seasons columns in inp1, according to the above criteria.\n",
    "inp1['Summer'] = inp1['09-06-2013'] + inp1['10-06-2013'] + inp1['29-08-2013'] + inp1['31-08-2013'] + inp1['09-08-2013']\n",
    "inp1['Autumn'] = inp1['09-10-2013'] + inp1['14-09-2013'] + inp1['16-09-2013'] + inp1['18-09-2013'] + inp1['20-09-2013'] + inp1['22-09-2013'] + inp1['24-09-2013'] + inp1['28-09-2013']\n",
    "inp1['Winter'] = inp1['09-12-2013'] + inp1['10-12-2013'] + inp1['09-02-2013']\n",
    "inp1['Spring'] = inp1['09-04-2013']\n",
    "print(inp1)"
   ]
  },
  {
   "cell_type": "code",
   "execution_count": 26,
   "metadata": {
    "scrolled": true
   },
   "outputs": [
    {
     "data": {
      "text/plain": [
       "Summer     691907.0\n",
       "Autumn    1353543.0\n",
       "Winter     473640.0\n",
       "Spring     143600.0\n",
       "dtype: float64"
      ]
     },
     "execution_count": 26,
     "metadata": {},
     "output_type": "execute_result"
    }
   ],
   "source": [
    "# calculate the sum of sales in each seasons in inp1 i.e. \"Dress Sales\".\n",
    "inp1[['Summer','Autumn','Winter','Spring']].sum()"
   ]
  },
  {
   "cell_type": "markdown",
   "metadata": {},
   "source": [
    "Now let's merge inp1 with inp0 with left join manner, so that the information of inp0 should remain intact."
   ]
  },
  {
   "cell_type": "code",
   "execution_count": 27,
   "metadata": {},
   "outputs": [
    {
     "data": {
      "text/html": [
       "<div>\n",
       "<style scoped>\n",
       "    .dataframe tbody tr th:only-of-type {\n",
       "        vertical-align: middle;\n",
       "    }\n",
       "\n",
       "    .dataframe tbody tr th {\n",
       "        vertical-align: top;\n",
       "    }\n",
       "\n",
       "    .dataframe thead th {\n",
       "        text-align: right;\n",
       "    }\n",
       "</style>\n",
       "<table border=\"1\" class=\"dataframe\">\n",
       "  <thead>\n",
       "    <tr style=\"text-align: right;\">\n",
       "      <th></th>\n",
       "      <th>Dress_ID</th>\n",
       "      <th>Style</th>\n",
       "      <th>Price</th>\n",
       "      <th>Rating</th>\n",
       "      <th>Size</th>\n",
       "      <th>Season</th>\n",
       "      <th>NeckLine</th>\n",
       "      <th>SleeveLength</th>\n",
       "      <th>Material</th>\n",
       "      <th>FabricType</th>\n",
       "      <th>...</th>\n",
       "      <th>20-09-2013</th>\n",
       "      <th>22-09-2013</th>\n",
       "      <th>24-09-2013</th>\n",
       "      <th>28-09-2013</th>\n",
       "      <th>10-06-2013</th>\n",
       "      <th>10-12-2013</th>\n",
       "      <th>Summer</th>\n",
       "      <th>Autumn</th>\n",
       "      <th>Winter</th>\n",
       "      <th>Spring</th>\n",
       "    </tr>\n",
       "  </thead>\n",
       "  <tbody>\n",
       "    <tr>\n",
       "      <th>0</th>\n",
       "      <td>1006032852</td>\n",
       "      <td>Sexy</td>\n",
       "      <td>Low</td>\n",
       "      <td>4.6</td>\n",
       "      <td>Medium</td>\n",
       "      <td>Summer</td>\n",
       "      <td>o-neck</td>\n",
       "      <td>sleevless</td>\n",
       "      <td>NaN</td>\n",
       "      <td>chiffon</td>\n",
       "      <td>...</td>\n",
       "      <td>3386.0</td>\n",
       "      <td>3479.0</td>\n",
       "      <td>3554</td>\n",
       "      <td>3706</td>\n",
       "      <td>3897</td>\n",
       "      <td>4048</td>\n",
       "      <td>13899</td>\n",
       "      <td>26857.0</td>\n",
       "      <td>9658.0</td>\n",
       "      <td>2660</td>\n",
       "    </tr>\n",
       "    <tr>\n",
       "      <th>1</th>\n",
       "      <td>1212192089</td>\n",
       "      <td>Casual</td>\n",
       "      <td>Low</td>\n",
       "      <td>0.0</td>\n",
       "      <td>Large</td>\n",
       "      <td>Summer</td>\n",
       "      <td>o-neck</td>\n",
       "      <td>Petal</td>\n",
       "      <td>microfiber</td>\n",
       "      <td>NaN</td>\n",
       "      <td>...</td>\n",
       "      <td>2106.0</td>\n",
       "      <td>2454.0</td>\n",
       "      <td>2710</td>\n",
       "      <td>3258</td>\n",
       "      <td>3911</td>\n",
       "      <td>4277</td>\n",
       "      <td>6216</td>\n",
       "      <td>17311.0</td>\n",
       "      <td>6405.0</td>\n",
       "      <td>750</td>\n",
       "    </tr>\n",
       "    <tr>\n",
       "      <th>2</th>\n",
       "      <td>1190380701</td>\n",
       "      <td>vintage</td>\n",
       "      <td>High</td>\n",
       "      <td>0.0</td>\n",
       "      <td>Large</td>\n",
       "      <td>Automn</td>\n",
       "      <td>o-neck</td>\n",
       "      <td>full</td>\n",
       "      <td>polyster</td>\n",
       "      <td>NaN</td>\n",
       "      <td>...</td>\n",
       "      <td>10.0</td>\n",
       "      <td>11.0</td>\n",
       "      <td>11</td>\n",
       "      <td>11</td>\n",
       "      <td>11</td>\n",
       "      <td>11</td>\n",
       "      <td>40</td>\n",
       "      <td>82.0</td>\n",
       "      <td>28.0</td>\n",
       "      <td>7</td>\n",
       "    </tr>\n",
       "    <tr>\n",
       "      <th>3</th>\n",
       "      <td>966005983</td>\n",
       "      <td>Brief</td>\n",
       "      <td>Average</td>\n",
       "      <td>4.6</td>\n",
       "      <td>Large</td>\n",
       "      <td>Spring</td>\n",
       "      <td>o-neck</td>\n",
       "      <td>full</td>\n",
       "      <td>silk</td>\n",
       "      <td>chiffon</td>\n",
       "      <td>...</td>\n",
       "      <td>1812.0</td>\n",
       "      <td>1845.0</td>\n",
       "      <td>1878</td>\n",
       "      <td>1914</td>\n",
       "      <td>1952</td>\n",
       "      <td>1963</td>\n",
       "      <td>7213</td>\n",
       "      <td>14411.0</td>\n",
       "      <td>5012.0</td>\n",
       "      <td>1455</td>\n",
       "    </tr>\n",
       "    <tr>\n",
       "      <th>4</th>\n",
       "      <td>876339541</td>\n",
       "      <td>cute</td>\n",
       "      <td>Low</td>\n",
       "      <td>4.5</td>\n",
       "      <td>Medium</td>\n",
       "      <td>Summer</td>\n",
       "      <td>o-neck</td>\n",
       "      <td>butterfly</td>\n",
       "      <td>chiffonfabric</td>\n",
       "      <td>chiffon</td>\n",
       "      <td>...</td>\n",
       "      <td>1824.0</td>\n",
       "      <td>1919.0</td>\n",
       "      <td>2032</td>\n",
       "      <td>2252</td>\n",
       "      <td>2544</td>\n",
       "      <td>2736</td>\n",
       "      <td>7706</td>\n",
       "      <td>14676.0</td>\n",
       "      <td>5678.0</td>\n",
       "      <td>1396</td>\n",
       "    </tr>\n",
       "  </tbody>\n",
       "</table>\n",
       "<p>5 rows × 34 columns</p>\n",
       "</div>"
      ],
      "text/plain": [
       "     Dress_ID    Style    Price  Rating    Size  Season NeckLine SleeveLength  \\\n",
       "0  1006032852     Sexy      Low     4.6  Medium  Summer   o-neck    sleevless   \n",
       "1  1212192089   Casual      Low     0.0   Large  Summer   o-neck        Petal   \n",
       "2  1190380701  vintage     High     0.0   Large  Automn   o-neck         full   \n",
       "3   966005983    Brief  Average     4.6   Large  Spring   o-neck         full   \n",
       "4   876339541     cute      Low     4.5  Medium  Summer   o-neck    butterfly   \n",
       "\n",
       "        Material FabricType  ... 20-09-2013 22-09-2013  24-09-2013  \\\n",
       "0            NaN    chiffon  ...     3386.0     3479.0        3554   \n",
       "1     microfiber        NaN  ...     2106.0     2454.0        2710   \n",
       "2       polyster        NaN  ...       10.0       11.0          11   \n",
       "3           silk    chiffon  ...     1812.0     1845.0        1878   \n",
       "4  chiffonfabric    chiffon  ...     1824.0     1919.0        2032   \n",
       "\n",
       "   28-09-2013  10-06-2013  10-12-2013  Summer   Autumn  Winter  Spring  \n",
       "0        3706        3897        4048   13899  26857.0  9658.0    2660  \n",
       "1        3258        3911        4277    6216  17311.0  6405.0     750  \n",
       "2          11          11          11      40     82.0    28.0       7  \n",
       "3        1914        1952        1963    7213  14411.0  5012.0    1455  \n",
       "4        2252        2544        2736    7706  14676.0  5678.0    1396  \n",
       "\n",
       "[5 rows x 34 columns]"
      ]
     },
     "execution_count": 27,
     "metadata": {},
     "output_type": "execute_result"
    }
   ],
   "source": [
    "# Merge inp0 with inp1 into inp0. this is also called left merge.\n",
    "s=inp0 = pd.merge(left=inp0,right=inp1, how='left', left_on='Dress_ID', right_on='Dress_ID')\n",
    "s.head()"
   ]
  },
  {
   "cell_type": "code",
   "execution_count": 28,
   "metadata": {},
   "outputs": [
    {
     "name": "stdout",
     "output_type": "stream",
     "text": [
      "       Dress_ID    Style    Price  Rating    Size  Season   NeckLine  \\\n",
      "0    1006032852     Sexy      Low     4.6  Medium  Summer     o-neck   \n",
      "1    1212192089   Casual      Low     0.0   Large  Summer     o-neck   \n",
      "2    1190380701  vintage     High     0.0   Large  Automn     o-neck   \n",
      "3     966005983    Brief  Average     4.6   Large  Spring     o-neck   \n",
      "4     876339541     cute      Low     4.5  Medium  Summer     o-neck   \n",
      "..          ...      ...      ...     ...     ...     ...        ...   \n",
      "474   990559192    Brief  Average     4.7  Medium  winter     o-neck   \n",
      "475   713391965   Casual      Low     4.7  Medium  Spring     o-neck   \n",
      "476   532874347   Casual  Average     4.7  Medium  Summer     v-neck   \n",
      "477   655464934   Casual  Average     4.6   Large  winter  boat-neck   \n",
      "478   919930954   Casual      Low     4.4    Free  Summer     v-neck   \n",
      "\n",
      "    SleeveLength       Material  FabricType  Decoration Pattern Type  \\\n",
      "0      sleevless            NaN     chiffon     ruffles       animal   \n",
      "1          Petal     microfiber         NaN     ruffles       animal   \n",
      "2           full       polyster         NaN         NaN        print   \n",
      "3           full           silk     chiffon  embroidary        print   \n",
      "4      butterfly  chiffonfabric     chiffon         bow          dot   \n",
      "..           ...            ...         ...         ...          ...   \n",
      "474   halfsleeve        acrylic     chiffon         NaN      striped   \n",
      "475         full       polyster         NaN         NaN        solid   \n",
      "476         full         cotton         NaN        lace        solid   \n",
      "477    sleevless           silk  broadcloth    applique        print   \n",
      "478        short         cotton    Corduroy        lace        solid   \n",
      "\n",
      "     Recommendation  Summer   Autumn  Winter  Spring  \n",
      "0                 1   13899  26857.0  9658.0    2660  \n",
      "1                 0    6216  17311.0  6405.0     750  \n",
      "2                 0      40     82.0    28.0       7  \n",
      "3                 1    7213  14411.0  5012.0    1455  \n",
      "4                 0    7706  14676.0  5678.0    1396  \n",
      "..              ...     ...      ...     ...     ...  \n",
      "474               0     203    565.0   144.0      60  \n",
      "475               1    1478   3800.0   810.0     560  \n",
      "476               1    2005   5290.0  1214.0     734  \n",
      "477               1     769   2117.0   516.0     254  \n",
      "478               0    1763   4828.0  1258.0     538  \n",
      "\n",
      "[479 rows x 17 columns]\n"
     ]
    }
   ],
   "source": [
    "# Now Drop the Date columns from inp0 as it is already combined into four seasons.\n",
    "s=s.drop(columns=['09-06-2013', '10-06-2013', '29-08-2013', '31-08-2013', '09-08-2013', '09-10-2013', \n",
    "                  '14-09-2013', '16-09-2013', '18-09-2013', '20-09-2013', '22-09-2013', '24-09-2013', \n",
    "                  '28-09-2013', '09-12-2013', '10-12-2013', '09-02-2013', '09-04-2013'])\n",
    "\n",
    "print(s)"
   ]
  },
  {
   "cell_type": "markdown",
   "metadata": {},
   "source": [
    "Print the null count of inp0 to get the idea about the missing values in data set."
   ]
  },
  {
   "cell_type": "code",
   "execution_count": 29,
   "metadata": {},
   "outputs": [
    {
     "data": {
      "text/plain": [
       "Dress_ID            0\n",
       "Style               0\n",
       "Price               2\n",
       "Rating              0\n",
       "Size                0\n",
       "Season              2\n",
       "NeckLine            3\n",
       "SleeveLength        2\n",
       "Material          119\n",
       "FabricType        256\n",
       "Decoration        224\n",
       "Pattern Type      102\n",
       "Recommendation      0\n",
       "Summer              0\n",
       "Autumn              2\n",
       "Winter              1\n",
       "Spring              0\n",
       "dtype: int64"
      ]
     },
     "execution_count": 29,
     "metadata": {},
     "output_type": "execute_result"
    }
   ],
   "source": [
    "# Print the null count of each columns in inp0 dataframe i.e. combined data frame of inp0 and inp1 without date columns.\n",
    "s.isnull().sum()"
   ]
  },
  {
   "cell_type": "markdown",
   "metadata": {},
   "source": [
    "You can see that there are two types of variables one with a large number of missing values and another is very less number of missing values. These two columns can be categorized as:\n",
    "\n",
    "Type-1: Missing values are very less (around 2 or 3 missing values): Price, Season, NeckLine, SleeveLength, Winter and Autumn. \n",
    "\n",
    "Type-2: Missing values are large in numbers (more than 15%): Material, FabricType, Decoration and Pattern Type.\n",
    "\n"
   ]
  },
  {
   "cell_type": "code",
   "execution_count": 30,
   "metadata": {},
   "outputs": [
    {
     "data": {
      "text/plain": [
       "Dress_ID            0\n",
       "Style               0\n",
       "Price               0\n",
       "Rating              0\n",
       "Size                0\n",
       "Season              0\n",
       "NeckLine            0\n",
       "SleeveLength        0\n",
       "Material          116\n",
       "FabricType        250\n",
       "Decoration        220\n",
       "Pattern Type       98\n",
       "Recommendation      0\n",
       "Summer              0\n",
       "Autumn              0\n",
       "Winter              0\n",
       "Spring              0\n",
       "dtype: int64"
      ]
     },
     "execution_count": 30,
     "metadata": {},
     "output_type": "execute_result"
    }
   ],
   "source": [
    "# Deal with the missing values of Type-1 columns: Price, Season, NeckLine, SleeveLength, Winter and Autumn.\n",
    "\n",
    "#s['Autumn'].fillna(s['Autumn'].mode(), inplace=True)\n",
    "#s.dropna(subset=['Autumn', 'Winter','SleeveLength','NeckLine','Season','Price'], inplace=True)\n",
    "\n",
    "s.replace(to_replace=[None], value=np.nan, inplace=True)\n",
    "\n",
    "# Drop rows with NaN values\n",
    "s.dropna(subset=['Autumn', 'Winter','SleeveLength','NeckLine','Season','Price'],inplace=True)\n",
    "s.isnull().sum()"
   ]
  },
  {
   "cell_type": "code",
   "execution_count": 31,
   "metadata": {},
   "outputs": [
    {
     "data": {
      "text/plain": [
       "Dress_ID          0\n",
       "Style             0\n",
       "Price             0\n",
       "Rating            0\n",
       "Size              0\n",
       "Season            0\n",
       "NeckLine          0\n",
       "SleeveLength      0\n",
       "Material          0\n",
       "FabricType        0\n",
       "Decoration        0\n",
       "Pattern Type      0\n",
       "Recommendation    0\n",
       "Summer            0\n",
       "Autumn            0\n",
       "Winter            0\n",
       "Spring            0\n",
       "dtype: int64"
      ]
     },
     "execution_count": 31,
     "metadata": {},
     "output_type": "execute_result"
    }
   ],
   "source": [
    "# Deal with the missing values for Type-2 columns: Material, FabricType, Decoration and Pattern Type.\n",
    "#s['Material']=s['Material'].fillna(s['Material'].mode().iloc[0])\n",
    "s.dropna(subset=['Material','FabricType','Decoration','Pattern Type'],inplace=True)\n",
    "s.isnull().sum()"
   ]
  },
  {
   "cell_type": "code",
   "execution_count": 32,
   "metadata": {},
   "outputs": [
    {
     "data": {
      "text/html": [
       "<div>\n",
       "<style scoped>\n",
       "    .dataframe tbody tr th:only-of-type {\n",
       "        vertical-align: middle;\n",
       "    }\n",
       "\n",
       "    .dataframe tbody tr th {\n",
       "        vertical-align: top;\n",
       "    }\n",
       "\n",
       "    .dataframe thead th {\n",
       "        text-align: right;\n",
       "    }\n",
       "</style>\n",
       "<table border=\"1\" class=\"dataframe\">\n",
       "  <thead>\n",
       "    <tr style=\"text-align: right;\">\n",
       "      <th></th>\n",
       "      <th>Dress_ID</th>\n",
       "      <th>Style</th>\n",
       "      <th>Price</th>\n",
       "      <th>Rating</th>\n",
       "      <th>Size</th>\n",
       "      <th>Season</th>\n",
       "      <th>NeckLine</th>\n",
       "      <th>SleeveLength</th>\n",
       "      <th>Material</th>\n",
       "      <th>FabricType</th>\n",
       "      <th>Decoration</th>\n",
       "      <th>Pattern Type</th>\n",
       "      <th>Recommendation</th>\n",
       "      <th>Summer</th>\n",
       "      <th>Autumn</th>\n",
       "      <th>Winter</th>\n",
       "      <th>Spring</th>\n",
       "    </tr>\n",
       "  </thead>\n",
       "  <tbody>\n",
       "    <tr>\n",
       "      <th>3</th>\n",
       "      <td>966005983</td>\n",
       "      <td>Brief</td>\n",
       "      <td>Average</td>\n",
       "      <td>4.6</td>\n",
       "      <td>Large</td>\n",
       "      <td>Spring</td>\n",
       "      <td>o-neck</td>\n",
       "      <td>full</td>\n",
       "      <td>silk</td>\n",
       "      <td>chiffon</td>\n",
       "      <td>embroidary</td>\n",
       "      <td>print</td>\n",
       "      <td>1</td>\n",
       "      <td>7213</td>\n",
       "      <td>14411.0</td>\n",
       "      <td>5012.0</td>\n",
       "      <td>1455</td>\n",
       "    </tr>\n",
       "    <tr>\n",
       "      <th>4</th>\n",
       "      <td>876339541</td>\n",
       "      <td>cute</td>\n",
       "      <td>Low</td>\n",
       "      <td>4.5</td>\n",
       "      <td>Medium</td>\n",
       "      <td>Summer</td>\n",
       "      <td>o-neck</td>\n",
       "      <td>butterfly</td>\n",
       "      <td>chiffonfabric</td>\n",
       "      <td>chiffon</td>\n",
       "      <td>bow</td>\n",
       "      <td>dot</td>\n",
       "      <td>0</td>\n",
       "      <td>7706</td>\n",
       "      <td>14676.0</td>\n",
       "      <td>5678.0</td>\n",
       "      <td>1396</td>\n",
       "    </tr>\n",
       "    <tr>\n",
       "      <th>7</th>\n",
       "      <td>1113094204</td>\n",
       "      <td>Flare</td>\n",
       "      <td>Average</td>\n",
       "      <td>0.0</td>\n",
       "      <td>Free</td>\n",
       "      <td>Spring</td>\n",
       "      <td>v-neck</td>\n",
       "      <td>short</td>\n",
       "      <td>cotton</td>\n",
       "      <td>broadcloth</td>\n",
       "      <td>beading</td>\n",
       "      <td>solid</td>\n",
       "      <td>1</td>\n",
       "      <td>68</td>\n",
       "      <td>181.0</td>\n",
       "      <td>60.0</td>\n",
       "      <td>12</td>\n",
       "    </tr>\n",
       "    <tr>\n",
       "      <th>9</th>\n",
       "      <td>1117293701</td>\n",
       "      <td>party</td>\n",
       "      <td>Average</td>\n",
       "      <td>5.0</td>\n",
       "      <td>Free</td>\n",
       "      <td>Summer</td>\n",
       "      <td>o-neck</td>\n",
       "      <td>full</td>\n",
       "      <td>polyster</td>\n",
       "      <td>broadcloth</td>\n",
       "      <td>lace</td>\n",
       "      <td>solid</td>\n",
       "      <td>0</td>\n",
       "      <td>275</td>\n",
       "      <td>624.0</td>\n",
       "      <td>245.0</td>\n",
       "      <td>49</td>\n",
       "    </tr>\n",
       "    <tr>\n",
       "      <th>27</th>\n",
       "      <td>942808364</td>\n",
       "      <td>cute</td>\n",
       "      <td>Low</td>\n",
       "      <td>4.3</td>\n",
       "      <td>Free</td>\n",
       "      <td>Automn</td>\n",
       "      <td>o-neck</td>\n",
       "      <td>sleevless</td>\n",
       "      <td>polyster</td>\n",
       "      <td>chiffon</td>\n",
       "      <td>sashes</td>\n",
       "      <td>striped</td>\n",
       "      <td>0</td>\n",
       "      <td>2288</td>\n",
       "      <td>4073.0</td>\n",
       "      <td>1497.0</td>\n",
       "      <td>475</td>\n",
       "    </tr>\n",
       "  </tbody>\n",
       "</table>\n",
       "</div>"
      ],
      "text/plain": [
       "      Dress_ID  Style    Price  Rating    Size  Season NeckLine SleeveLength  \\\n",
       "3    966005983  Brief  Average     4.6   Large  Spring   o-neck         full   \n",
       "4    876339541   cute      Low     4.5  Medium  Summer   o-neck    butterfly   \n",
       "7   1113094204  Flare  Average     0.0    Free  Spring   v-neck        short   \n",
       "9   1117293701  party  Average     5.0    Free  Summer   o-neck         full   \n",
       "27   942808364   cute      Low     4.3    Free  Automn   o-neck    sleevless   \n",
       "\n",
       "         Material  FabricType  Decoration Pattern Type  Recommendation  \\\n",
       "3            silk     chiffon  embroidary        print               1   \n",
       "4   chiffonfabric     chiffon         bow          dot               0   \n",
       "7          cotton  broadcloth     beading        solid               1   \n",
       "9        polyster  broadcloth        lace        solid               0   \n",
       "27       polyster     chiffon      sashes      striped               0   \n",
       "\n",
       "    Summer   Autumn  Winter  Spring  \n",
       "3     7213  14411.0  5012.0    1455  \n",
       "4     7706  14676.0  5678.0    1396  \n",
       "7       68    181.0    60.0      12  \n",
       "9      275    624.0   245.0      49  \n",
       "27    2288   4073.0  1497.0     475  "
      ]
     },
     "execution_count": 32,
     "metadata": {},
     "output_type": "execute_result"
    }
   ],
   "source": [
    "s.head()"
   ]
  },
  {
   "cell_type": "markdown",
   "metadata": {},
   "source": [
    "### Standardise value "
   ]
  },
  {
   "cell_type": "markdown",
   "metadata": {},
   "source": [
    "In the given dataset, there are certain discrepancies with the categorical names such as irregular spellings. Choose the correct option of columns with irregular categories and update them.\n",
    " \n",
    "- Season, NeckLine\n",
    "- Price, Material\n",
    "- fabricType, Decoration\n",
    "- Season, SleeveLength\n"
   ]
  },
  {
   "cell_type": "code",
   "execution_count": 33,
   "metadata": {},
   "outputs": [
    {
     "data": {
      "text/plain": [
       "array(['Spring', 'Summer', 'Autumn', 'Winter'], dtype=object)"
      ]
     },
     "execution_count": 33,
     "metadata": {},
     "output_type": "execute_result"
    }
   ],
   "source": [
    "#correcting the spellings.\n",
    "s['Season'].unique()\n",
    "s['Season'].replace(['Automn','winter'], ['Autumn','Winter'], inplace=True)\n",
    "s['Season'].unique()"
   ]
  },
  {
   "cell_type": "code",
   "execution_count": 34,
   "metadata": {},
   "outputs": [
    {
     "data": {
      "text/plain": [
       "array(['full', 'butterfly', 'short', 'sleevless', 'halfsleeve',\n",
       "       'threequarter'], dtype=object)"
      ]
     },
     "execution_count": 34,
     "metadata": {},
     "output_type": "execute_result"
    }
   ],
   "source": [
    "#correcting the Spellings.\n",
    "s['SleeveLength'].unique()\n",
    "s['SleeveLength'].replace(['thressqatar'], ['threequarter'], inplace=True)\n",
    "s['SleeveLength'].unique()"
   ]
  },
  {
   "cell_type": "markdown",
   "metadata": {},
   "source": [
    "There is a column named ‘Style’ in ‘Attribute Dataset’ which consists of the different style categories of the women apparels. Certain categories whose total sale is less than 50000 across all the seasons is considered under one single category as ‘Others’."
   ]
  },
  {
   "cell_type": "markdown",
   "metadata": {},
   "source": [
    "Which of the following categories in ‘Style’ column can be grouped into ‘Others’ category? and perform the grouping operation in the notebook for further analysis.\n",
    "- Flare, fashion\n",
    "- Novelty, bohemian\n",
    "- OL, fashion, work\n",
    "- Novelty, fashion, Flare\n"
   ]
  },
  {
   "cell_type": "code",
   "execution_count": 35,
   "metadata": {},
   "outputs": [
    {
     "data": {
      "text/plain": [
       "array(['Brief', 'cute', 'Others', 'Casual', 'Sexy'], dtype=object)"
      ]
     },
     "execution_count": 35,
     "metadata": {},
     "output_type": "execute_result"
    }
   ],
   "source": [
    "# Group \"Style\" categories into \"Others\" which have less than 50000 sales across all the seasons.\n",
    "#s['total'] = s['Summer'] + s['Autumn'] + s['Winter'] + s['Spring']\n",
    "s['total'] = s[['Summer', 'Autumn', 'Winter', 'Spring']].sum(axis=1)\n",
    "\n",
    "# Calculate total sales for each style\n",
    "style_sales = s.groupby('Style')['total'].sum()\n",
    "\n",
    "# Identify styles with total sales less than 50000\n",
    "styles_to_group = style_sales[style_sales < 50000].index.tolist()\n",
    "\n",
    "# Replace those styles with 'Others' using boolean indexing\n",
    "s.loc[s['Style'].isin(styles_to_group), 'Style'] = 'Others'\n",
    "\n",
    "# Check the updated DataFrame\n",
    "s['Style'].unique()"
   ]
  },
  {
   "cell_type": "code",
   "execution_count": 36,
   "metadata": {},
   "outputs": [
    {
     "name": "stdout",
     "output_type": "stream",
     "text": [
      "Style\n",
      "Casual      45.720251\n",
      "Sexy        13.778706\n",
      "party       10.647182\n",
      "cute         9.185804\n",
      "vintage      5.219207\n",
      "bohemian     4.801670\n",
      "Brief        3.549061\n",
      "work         3.549061\n",
      "sexy         1.461378\n",
      "Novelty      1.252610\n",
      "Flare        0.417537\n",
      "OL           0.208768\n",
      "fashion      0.208768\n",
      "Name: count, dtype: float64\n"
     ]
    }
   ],
   "source": [
    "# Calculate the percentage of each categories in the \"Style\" variable.\n",
    "k=inp0.Style.value_counts()\n",
    "l=k/k.sum()*100\n",
    "print(l)"
   ]
  },
  {
   "cell_type": "markdown",
   "metadata": {},
   "source": [
    "What is the percentage of “cute” and “Others” category in “Style” column in “Attribute DataSet” respectively?\n",
    "- 46%, 5%\n",
    "- 9%, 2.1%\n",
    "- 2.1%, 5%\n",
    "- 13.8%, 9%\n",
    "answer: 9%,2.1%"
   ]
  },
  {
   "cell_type": "markdown",
   "metadata": {},
   "source": [
    "Similarly Club Neckline, SLeeve length categories into \"Others\" which have less than 50000 sales across all the seasons."
   ]
  },
  {
   "cell_type": "code",
   "execution_count": 37,
   "metadata": {},
   "outputs": [
    {
     "data": {
      "text/plain": [
       "array(['o-neck', 'v-neck', 'ruffled', 'Others'], dtype=object)"
      ]
     },
     "execution_count": 37,
     "metadata": {},
     "output_type": "execute_result"
    }
   ],
   "source": [
    "# Group \"Neckline\" categories into \"Others\" which have less than 50000 sales across all the seasons.\n",
    "s['total'] = s[['Summer', 'Autumn', 'Winter', 'Spring']].sum(axis=1)\n",
    "\n",
    "# Calculate total sales for each style\n",
    "Neckline_sales = s.groupby('NeckLine')['total'].sum()\n",
    "\n",
    "# Identify styles with total sales less than 50000\n",
    "Neckline_to_group = Neckline_sales[Neckline_sales < 50000].index.tolist()\n",
    "\n",
    "# Replace those styles with 'Others' using boolean indexing\n",
    "s.loc[s['NeckLine'].isin(Neckline_to_group), 'NeckLine'] = 'Others'\n",
    "\n",
    "# Check the updated DataFrame\n",
    "s['NeckLine'].unique()"
   ]
  },
  {
   "cell_type": "code",
   "execution_count": 38,
   "metadata": {},
   "outputs": [
    {
     "data": {
      "text/plain": [
       "array(['full', 'Others', 'short', 'sleevless', 'halfsleeve'], dtype=object)"
      ]
     },
     "execution_count": 38,
     "metadata": {},
     "output_type": "execute_result"
    }
   ],
   "source": [
    "# Group \"Sleeve length\" categories into \"Others\" which have less than 50000 sales across all the seasons.\n",
    "s['total'] = s[['Summer', 'Autumn', 'Winter', 'Spring']].sum(axis=1)\n",
    "\n",
    "# Calculate total sales for each style\n",
    "SleeveLength_sales = s.groupby('SleeveLength')['total'].sum()\n",
    "\n",
    "# Identify styles with total sales less than 50000\n",
    "SleeveLength_to_group = SleeveLength_sales[SleeveLength_sales < 50000].index.tolist()\n",
    "\n",
    "# Replace those styles with 'Others' using boolean indexing\n",
    "s.loc[s['SleeveLength'].isin(SleeveLength_to_group), 'SleeveLength'] = 'Others'\n",
    "\n",
    "# Check the updated DataFrame\n",
    "s['SleeveLength'].unique()"
   ]
  },
  {
   "cell_type": "markdown",
   "metadata": {},
   "source": [
    "Club material, fabrictype, patterntype and decoration categories into \"Others\" which have less than 25000 sales across all the seasons"
   ]
  },
  {
   "cell_type": "code",
   "execution_count": 39,
   "metadata": {},
   "outputs": [
    {
     "data": {
      "text/plain": [
       "array(['silk', 'chiffonfabric', 'cotton', 'polyster', 'Others', 'rayon'],\n",
       "      dtype=object)"
      ]
     },
     "execution_count": 39,
     "metadata": {},
     "output_type": "execute_result"
    }
   ],
   "source": [
    "# Group \"material\" categories into \"Others\" which have less than 25000 sales across all the seasons.\n",
    "s['total'] = s[['Summer', 'Autumn', 'Winter', 'Spring']].sum(axis=1)\n",
    "\n",
    "# Calculate total sales for each style\n",
    "Material_sales = s.groupby('Material')['total'].sum()\n",
    "\n",
    "# Identify styles with total sales less than 50000\n",
    "Material_to_group =Material_sales[Material_sales < 50000].index.tolist()\n",
    "\n",
    "# Replace those styles with 'Others' using boolean indexing\n",
    "s.loc[s['Material'].isin(Material_to_group), 'Material'] = 'Others'\n",
    "\n",
    "# Check the updated DataFrame\n",
    "s['Material'].unique()"
   ]
  },
  {
   "cell_type": "code",
   "execution_count": 40,
   "metadata": {},
   "outputs": [
    {
     "data": {
      "text/plain": [
       "array(['chiffon', 'broadcloth', 'Others'], dtype=object)"
      ]
     },
     "execution_count": 40,
     "metadata": {},
     "output_type": "execute_result"
    }
   ],
   "source": [
    "# Group \"fabric type\" categories into \"Others\" which have less than 25000 sales across all the seasons.\n",
    "s['total'] = s[['Summer', 'Autumn', 'Winter', 'Spring']].sum(axis=1)\n",
    "\n",
    "# Calculate total sales for each fabric type\n",
    "FabricType_sales = s.groupby('FabricType')['total'].sum()\n",
    "\n",
    "# Identify styles with total sales less than 50000\n",
    "FabricType_to_group = FabricType_sales[FabricType_sales < 50000].index.tolist()\n",
    "\n",
    "# Replace those styles with 'Others' using boolean indexing\n",
    "s.loc[s['FabricType'].isin(FabricType_to_group), 'FabricType'] = 'Others'\n",
    "\n",
    "# Check the updated DataFrame\n",
    "s['FabricType'].unique()"
   ]
  },
  {
   "cell_type": "code",
   "execution_count": 41,
   "metadata": {},
   "outputs": [
    {
     "name": "stdout",
     "output_type": "stream",
     "text": [
      "<class 'pandas.core.frame.DataFrame'>\n",
      "Index: 100 entries, 3 to 478\n",
      "Data columns (total 18 columns):\n",
      " #   Column          Non-Null Count  Dtype  \n",
      "---  ------          --------------  -----  \n",
      " 0   Dress_ID        100 non-null    int64  \n",
      " 1   Style           100 non-null    object \n",
      " 2   Price           100 non-null    object \n",
      " 3   Rating          100 non-null    float64\n",
      " 4   Size            100 non-null    object \n",
      " 5   Season          100 non-null    object \n",
      " 6   NeckLine        100 non-null    object \n",
      " 7   SleeveLength    100 non-null    object \n",
      " 8   Material        100 non-null    object \n",
      " 9   FabricType      100 non-null    object \n",
      " 10  Decoration      100 non-null    object \n",
      " 11  Pattern Type    100 non-null    object \n",
      " 12  Recommendation  100 non-null    int64  \n",
      " 13  Summer          100 non-null    int64  \n",
      " 14  Autumn          100 non-null    float64\n",
      " 15  Winter          100 non-null    float64\n",
      " 16  Spring          100 non-null    int64  \n",
      " 17  total           100 non-null    float64\n",
      "dtypes: float64(4), int64(4), object(10)\n",
      "memory usage: 14.8+ KB\n"
     ]
    }
   ],
   "source": [
    "s.info()"
   ]
  },
  {
   "cell_type": "code",
   "execution_count": 42,
   "metadata": {},
   "outputs": [
    {
     "data": {
      "text/plain": [
       "array(['print', 'dot', 'solid', 'Others'], dtype=object)"
      ]
     },
     "execution_count": 42,
     "metadata": {},
     "output_type": "execute_result"
    }
   ],
   "source": [
    "# Group \"patern type\" categories into \"Others\" which have less than 25000 sales across all the seasons.\n",
    "s['total'] = s[['Summer', 'Autumn', 'Winter', 'Spring']].sum(axis=1)\n",
    "\n",
    "# Calculate total sales for each style\n",
    "Type_sales = s.groupby('Pattern Type')['total'].sum()\n",
    "\n",
    "# Identify styles with total sales less than 50000\n",
    "Type_to_group = Type_sales[Type_sales < 50000].index.tolist()\n",
    "\n",
    "# Replace those styles with 'Others' using boolean indexing\n",
    "s.loc[s['Pattern Type'].isin(Type_to_group), 'Pattern Type'] = 'Others'\n",
    "\n",
    "# Check the updated DataFrame\n",
    "s['Pattern Type'].unique()"
   ]
  },
  {
   "cell_type": "code",
   "execution_count": 44,
   "metadata": {},
   "outputs": [
    {
     "data": {
      "text/plain": [
       "array(['Others', 'bow', 'lace', 'sashes', 'ruffles', 'applique'],\n",
       "      dtype=object)"
      ]
     },
     "execution_count": 44,
     "metadata": {},
     "output_type": "execute_result"
    }
   ],
   "source": [
    "# Group \"decoration\" categories into \"Others\" which have less than 25000 sales across all the seasons.\n",
    "s['total'] = s[['Summer', 'Autumn', 'Winter', 'Spring']].sum(axis=1)\n",
    "\n",
    "# Calculate total sales for each style\n",
    "Decoration = s.groupby('Decoration')['total'].sum()\n",
    "\n",
    "# Identify styles with total sales less than 50000\n",
    "Decoration_group = Decoration[Decoration < 50000].index.tolist()\n",
    "\n",
    "# Replace those styles with 'Others' using boolean indexing\n",
    "s.loc[s['Decoration'].isin(Decoration_group), 'Decoration'] = 'Others'\n",
    "\n",
    "# Check the updated DataFrame\n",
    "s['Decoration'].unique()"
   ]
  },
  {
   "cell_type": "markdown",
   "metadata": {},
   "source": [
    "### Caregorical Ordered Univariate Analysis"
   ]
  },
  {
   "cell_type": "markdown",
   "metadata": {},
   "source": [
    "Which of the following is an unordered variable in “Attribute DataSet”.\n",
    "- Style\n",
    "- Price\n",
    "- Season\n",
    "- Size\n",
    "ans: style becase remaining all,are in order"
   ]
  },
  {
   "cell_type": "markdown",
   "metadata": {},
   "source": [
    "# Numerical variable Univariate analysis:"
   ]
  },
  {
   "cell_type": "markdown",
   "metadata": {},
   "source": [
    "What is the approximate difference between the maximum value and 75th percentile in “Autumn” column.\n",
    "- Approx 54000\n",
    "- Approx 55000\n",
    "- Approx 52000\n",
    "- Approx 50000\n",
    "ans: approx 52000\n"
   ]
  },
  {
   "cell_type": "code",
   "execution_count": 45,
   "metadata": {},
   "outputs": [
    {
     "data": {
      "text/plain": [
       "51625.0"
      ]
     },
     "execution_count": 45,
     "metadata": {},
     "output_type": "execute_result"
    }
   ],
   "source": [
    "x = s['Autumn'].max() - s['Autumn'].quantile(0.75)\n",
    "x"
   ]
  },
  {
   "cell_type": "code",
   "execution_count": 46,
   "metadata": {},
   "outputs": [
    {
     "data": {
      "text/plain": [
       "count      100.000000\n",
       "mean      3728.040000\n",
       "std       6823.095931\n",
       "min          1.000000\n",
       "25%        493.500000\n",
       "50%       1561.500000\n",
       "75%       3907.000000\n",
       "max      55532.000000\n",
       "Name: Autumn, dtype: float64"
      ]
     },
     "execution_count": 46,
     "metadata": {},
     "output_type": "execute_result"
    }
   ],
   "source": [
    "# Describe the numerical variale: \"Autumn\".\n",
    "s['Autumn'].describe()"
   ]
  },
  {
   "cell_type": "code",
   "execution_count": 47,
   "metadata": {},
   "outputs": [
    {
     "data": {
      "image/png": "[encoded data removed]",
      "text/plain": [
       "<Figure size 640x480 with 1 Axes>"
      ]
     },
     "metadata": {},
     "output_type": "display_data"
    }
   ],
   "source": [
    "# plot the boxplot of \"Autumn\" column.\n",
    "plt.boxplot(s['Autumn'])\n",
    "plt.show()"
   ]
  },
  {
   "cell_type": "markdown",
   "metadata": {},
   "source": [
    "Which of the following season has the highest difference between the maximum value and 99th quantile of sales?\n",
    "- Winter\n",
    "- Summer\n",
    "- Spring\n",
    "- Autumn"
   ]
  },
  {
   "cell_type": "code",
   "execution_count": 48,
   "metadata": {},
   "outputs": [
    {
     "name": "stdout",
     "output_type": "stream",
     "text": [
      "20388.0\n",
      "439.0\n"
     ]
    }
   ],
   "source": [
    "# Find the maximum and 50th percentile of Winter season.\n",
    "print(s['Winter'].max()) \n",
    "print(s['Winter'].quantile(0.50))"
   ]
  },
  {
   "cell_type": "code",
   "execution_count": 49,
   "metadata": {},
   "outputs": [
    {
     "name": "stdout",
     "output_type": "stream",
     "text": [
      "35577\n",
      "608.0\n"
     ]
    }
   ],
   "source": [
    "# Find the maximum and 50th percentile of Summer season.\n",
    "print(s['Summer'].max()) \n",
    "print(s['Summer'].quantile(0.50))"
   ]
  },
  {
   "cell_type": "code",
   "execution_count": 51,
   "metadata": {},
   "outputs": [
    {
     "name": "stdout",
     "output_type": "stream",
     "text": [
      "7374\n",
      "129.5\n"
     ]
    }
   ],
   "source": [
    "# Find the maximum and 50th percentile of Spring season.\n",
    "print(s['Spring'].max()) \n",
    "print(s['Spring'].quantile(0.50))"
   ]
  },
  {
   "cell_type": "code",
   "execution_count": 52,
   "metadata": {},
   "outputs": [
    {
     "name": "stdout",
     "output_type": "stream",
     "text": [
      "55532.0\n",
      "1329.0\n"
     ]
    }
   ],
   "source": [
    "# Find the maximum and 50th percentile of Autumn season.\n",
    "print(inp0['Autumn'].max()) \n",
    "print(inp0['Autumn'].quantile(0.50))"
   ]
  }
 ],
 "metadata": {
  "kernelspec": {
   "display_name": "Python 3 (ipykernel)",
   "language": "python",
   "name": "python3"
  },
  "language_info": {
   "codemirror_mode": {
    "name": "ipython",
    "version": 3
   },
   "file_extension": ".py",
   "mimetype": "text/x-python",
   "name": "python",
   "nbconvert_exporter": "python",
   "pygments_lexer": "ipython3",
   "version": "3.11.5"
  }
 },
 "nbformat": 4,
 "nbformat_minor": 2
}
